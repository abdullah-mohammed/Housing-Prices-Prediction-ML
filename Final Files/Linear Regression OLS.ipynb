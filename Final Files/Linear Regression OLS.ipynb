{
 "cells": [
  {
   "cell_type": "markdown",
   "source": [
    "# Linear Regression OLS"
   ],
   "metadata": {}
  },
  {
   "cell_type": "code",
   "execution_count": 5,
   "source": [
    "import pandas as pd \n",
    "from sklearn.model_selection import train_test_split\n",
    "from sklearn.metrics import mean_squared_error\n",
    "from sklearn.linear_model import LinearRegression\n",
    "\n",
    "df = pd.read_csv(r\"data/df_final.csv\") \n",
    "df.head()\n",
    "\n",
    "X = df.drop(\"SalePrice\", axis = 1)\n",
    "y = df.SalePrice\n",
    "\n",
    "XTrain, XTest, yTrain, yTest = train_test_split(X, y, random_state = 0, test_size = 0.2)\n",
    "\n",
    "reg = LinearRegression()\n",
    "reg.fit(XTrain, yTrain)\n",
    "\n",
    "score = reg.score(XTest, yTest)\n",
    "print('r2 Score:', score)\n",
    "yPred = reg.predict(XTest)\n",
    "rmse = mean_squared_error(yTest, yPred, squared=False)\n",
    "print('Root Mean Squared Error:',  rmse)"
   ],
   "outputs": [
    {
     "output_type": "stream",
     "name": "stdout",
     "text": [
      "r2 Score: -1.6072620141061802e+19\n",
      "Root Mean Squared Error: 269348542045818.62\n"
     ]
    }
   ],
   "metadata": {}
  },
  {
   "cell_type": "markdown",
   "source": [
    "## Running Grid Search"
   ],
   "metadata": {}
  },
  {
   "cell_type": "code",
   "execution_count": 6,
   "source": [
    "from sklearn.model_selection import GridSearchCV\n",
    "\n",
    "reg_gridSearch = LinearRegression()\n",
    "\n",
    "fit_intercept = [True, False]\n",
    "normalize = [True, False]\n",
    "positive = [True, False]\n",
    "\n",
    "parameter_space = {\n",
    "    'fit_intercept' : fit_intercept,\n",
    "    'normalize' : normalize,\n",
    "    'positive' : positive\n",
    "}\n",
    "\n",
    "gs = GridSearchCV(reg_gridSearch, param_grid=parameter_space, scoring='neg_root_mean_squared_error', refit=True, \n",
    "                                  return_train_score=True, cv=5)\n",
    "\n",
    "gs.fit(X, y)\n",
    "print('Optimal parameters:', gs.best_params_)\n",
    "print('neg_root_mean_squared_error with above optimal parameters:', gs.best_score_)"
   ],
   "outputs": [
    {
     "output_type": "stream",
     "name": "stdout",
     "text": [
      "Optimal parameters: {'fit_intercept': False, 'normalize': True, 'positive': False}\n",
      "neg_root_mean_squared_error with above optimal parameters: -334195701450967.06\n"
     ]
    }
   ],
   "metadata": {}
  },
  {
   "cell_type": "markdown",
   "source": [
    "## Running with Optimal Parameters"
   ],
   "metadata": {}
  },
  {
   "cell_type": "code",
   "execution_count": 7,
   "source": [
    "reg_optimal = LinearRegression(fit_intercept = True, normalize = False, positive = False)\n",
    "reg_optimal.fit(XTrain, yTrain)\n",
    "\n",
    "scoreOptimal = reg_optimal.score(XTest, yTest)\n",
    "print(\"r2 Score(test): \", str(scoreOptimal))\n",
    "yPredOptimal = reg_optimal.predict(XTest)\n",
    "rmse = mean_squared_error(yTest, yPredOptimal, squared=False)\n",
    "print('Root Mean Squared Error(test):', rmse)"
   ],
   "outputs": [
    {
     "output_type": "stream",
     "name": "stdout",
     "text": [
      "r2 Score(test):  -1.6072620141061802e+19\n",
      "Root Mean Squared Error(test): 269348542045818.62\n"
     ]
    }
   ],
   "metadata": {}
  },
  {
   "cell_type": "markdown",
   "source": [
    "## Cross Validation"
   ],
   "metadata": {}
  },
  {
   "cell_type": "code",
   "execution_count": 8,
   "source": [
    "import numpy as np\n",
    "from sklearn.model_selection import cross_validate\n",
    "\n",
    "scoring= ['r2', 'neg_root_mean_squared_error',]\n",
    "\n",
    "scores = cross_validate(reg_optimal, X, y, scoring=scoring, \n",
    "                                        cv=10, return_train_score=True)\n",
    "\n",
    "print('Mean of r2(train):', np.mean(scores['train_r2']))\n",
    "print('Mean of r2(test):', np.mean(scores['test_r2']))\n",
    "\n",
    "print('Mean of RMSE(train):', -(np.mean(scores['train_neg_root_mean_squared_error'])))\n",
    "print('Mean of RMSE(test):', -(np.mean(scores['test_neg_root_mean_squared_error'])))"
   ],
   "outputs": [
    {
     "output_type": "stream",
     "name": "stdout",
     "text": [
      "Mean of r2(train): 0.9549061513871878\n",
      "Mean of r2(test): -2.400254881161357e+22\n",
      "Mean of RMSE(train): 14704.540107790366\n",
      "Mean of RMSE(test): 3983610033102375.0\n"
     ]
    }
   ],
   "metadata": {}
  }
 ],
 "metadata": {
  "kernelspec": {
   "name": "python3",
   "display_name": "Python 3.8.10 64-bit"
  },
  "language_info": {
   "codemirror_mode": {
    "name": "ipython",
    "version": 3
   },
   "file_extension": ".py",
   "mimetype": "text/x-python",
   "name": "python",
   "nbconvert_exporter": "python",
   "pygments_lexer": "ipython3",
   "version": "3.8.10"
  },
  "interpreter": {
   "hash": "916dbcbb3f70747c44a77c7bcd40155683ae19c65e1c03b4aa3499c5328201f1"
  }
 },
 "nbformat": 4,
 "nbformat_minor": 4
}