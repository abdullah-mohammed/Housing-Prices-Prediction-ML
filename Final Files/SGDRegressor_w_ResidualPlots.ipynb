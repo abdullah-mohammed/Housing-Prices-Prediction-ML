{
 "cells": [
  {
   "cell_type": "code",
   "execution_count": 1,
   "metadata": {},
   "outputs": [
    {
     "name": "stdout",
     "output_type": "stream",
     "text": [
      "   MSSubClass_120  MSSubClass_160  MSSubClass_180  MSSubClass_190  \\\n",
      "0               0               0               0               0   \n",
      "1               0               0               0               0   \n",
      "2               0               0               0               0   \n",
      "3               0               0               0               0   \n",
      "4               0               0               0               0   \n",
      "\n",
      "   MSSubClass_20  MSSubClass_30  MSSubClass_40  MSSubClass_45  MSSubClass_50  \\\n",
      "0              0              0              0              0              0   \n",
      "1              0              0              0              0              0   \n",
      "2              0              0              0              0              0   \n",
      "3              1              0              0              0              0   \n",
      "4              0              0              0              0              0   \n",
      "\n",
      "   MSSubClass_60  ...  GarageCars  GarageArea  WoodDeckSF  OpenPorchSF  \\\n",
      "0              1  ...    0.339527    0.399927   -0.804846     0.317019   \n",
      "1              1  ...    0.339527    0.696149   -0.804846    -0.026135   \n",
      "2              1  ...    1.723945    1.821793    0.962176     0.732416   \n",
      "3              0  ...    0.339527    0.834386    1.541980     0.244776   \n",
      "4              1  ...    0.339527    0.083956    1.357915     2.899703   \n",
      "\n",
      "   EnclosedPorch  3SsnPorch  ScreenPorch  PoolArea   MiscVal  SalePrice  \n",
      "0      -0.356212  -0.030096    -0.230902       0.0 -0.148140     208500  \n",
      "1      -0.356212  -0.030096    -0.230902       0.0 -0.148140     223500  \n",
      "2      -0.356212  -0.030096    -0.230902       0.0 -0.148140     250000  \n",
      "3      -0.356212  -0.030096    -0.230902       0.0 -0.148140     307000  \n",
      "4       4.324051  -0.030096    -0.230902       0.0  3.344488     200000  \n",
      "\n",
      "[5 rows x 425 columns]\n"
     ]
    }
   ],
   "source": [
    "import pandas as pd\n",
    "import numpy as np\n",
    "from sklearn import model_selection\n",
    "from sklearn import metrics\n",
    "from sklearn.linear_model import SGDRegressor\n",
    "from sklearn.feature_selection import RFE\n",
    "\n",
    "df = pd.read_csv(\"./data/df_final.csv\")\n",
    "print(df.head(5))\n",
    "\n",
    "X, y = df.drop(columns=['SalePrice']), df['SalePrice']\n",
    "\n",
    "X_train, X_test, y_train, y_test = model_selection.train_test_split(X, y, test_size=0.2, random_state=0)"
   ]
  },
  {
   "cell_type": "markdown",
   "metadata": {},
   "source": [
    "## Grid Search for Training Hyperparameters"
   ]
  },
  {
   "cell_type": "code",
   "execution_count": 2,
   "metadata": {},
   "outputs": [
    {
     "name": "stdout",
     "output_type": "stream",
     "text": [
      "Optimal parameters: {'alpha': 0.0018000000000000004, 'eta0': 0.002, 'max_iter': 50, 'penalty': 'l2'}\n",
      "neg_root_mean_squared_error with above optimal parameters: -21550.664584041842\n"
     ]
    }
   ],
   "source": [
    "param_grid = {\n",
    "    'alpha': np.arange(0.001, 0.002, 0.0002),\n",
    "    'eta0': np.arange(0.001, 0.003, 0.001),\n",
    "    'max_iter': range(50, 150, 50),\n",
    "    'penalty' : ['l1', 'l2']  # Lasso = l1, Ridge = l2\n",
    "}\n",
    "\n",
    "gs = model_selection.GridSearchCV(SGDRegressor(early_stopping=True, random_state=0, learning_rate='constant'), \n",
    "                                  param_grid=param_grid, scoring='neg_root_mean_squared_error', refit=True, \n",
    "                                  return_train_score=True, cv=5)\n",
    "gs.fit(X, y)\n",
    "print('Optimal parameters:', gs.best_params_)\n",
    "print('neg_root_mean_squared_error with above optimal parameters:', gs.best_score_)"
   ]
  },
  {
   "cell_type": "markdown",
   "metadata": {},
   "source": [
    "#### Predict with Optimal Parameters"
   ]
  },
  {
   "cell_type": "code",
   "execution_count": 3,
   "metadata": {},
   "outputs": [
    {
     "name": "stdout",
     "output_type": "stream",
     "text": [
      "r2_error(train): 0.9226755606072808\n",
      "r2_error(test): 0.9213946398744604\n",
      "\n",
      "root_mean_squared_error(train): 19396.50752496842\n",
      "root_mean_squared_error(test): 18836.37680755738\n",
      "\n",
      "max_error(train): 147459.27472448925\n",
      "max_error(test): 78052.09125596564\n"
     ]
    }
   ],
   "source": [
    "print('r2_error(train):', metrics.r2_score(y_train, gs.predict(X_train)))\n",
    "print('r2_error(test):', metrics.r2_score(y_test, gs.predict(X_test)))\n",
    "\n",
    "print('\\nroot_mean_squared_error(train):', metrics.mean_squared_error(y_train, gs.predict(X_train), squared=False))\n",
    "print('root_mean_squared_error(test):', metrics.mean_squared_error(y_test, gs.predict(X_test), squared=False))\n",
    "\n",
    "print('\\nmax_error(train):', metrics.max_error(y_train, gs.predict(X_train)))\n",
    "print('max_error(test):', metrics.max_error(y_test, gs.predict(X_test)))"
   ]
  },
  {
   "cell_type": "markdown",
   "metadata": {},
   "source": [
    "## Training (SGDRegressor)"
   ]
  },
  {
   "cell_type": "code",
   "execution_count": 4,
   "metadata": {},
   "outputs": [
    {
     "name": "stdout",
     "output_type": "stream",
     "text": [
      "{'alpha': 0.0018, 'average': False, 'early_stopping': True, 'epsilon': 0.1, 'eta0': 0.002, 'fit_intercept': True, 'l1_ratio': 0.15, 'learning_rate': 'constant', 'loss': 'squared_loss', 'max_iter': 50, 'n_iter_no_change': 5, 'penalty': 'l2', 'power_t': 0.25, 'random_state': 0, 'shuffle': True, 'tol': 0.001, 'validation_fraction': 0.1, 'verbose': 0, 'warm_start': False}\n",
      "\n",
      "\n",
      "r2_error(train): 0.9314606137041556\n",
      "r2_error(test): 0.9093709639638278\n",
      "\n",
      "root_mean_squared_error(train): 18261.44984986743\n",
      "root_mean_squared_error(test): 20225.765565459587\n",
      "\n",
      "max_error(train): 153623.3777612658\n",
      "max_error(test): 83418.71910363773\n",
      "\n",
      "Actual number of iteration: 13\n"
     ]
    }
   ],
   "source": [
    "# https://scikit-learn.org/stable/modules/generated/sklearn.linear_model.SGDRegressor.html#sklearn.linear_model.SGDRegressor\n",
    "\n",
    "sgdr = SGDRegressor(early_stopping=True, random_state=0, learning_rate='constant', \n",
    "                    alpha=0.0018, eta0=0.002, max_iter=50, penalty='l2')\n",
    "sgdr.fit(X_train, y_train)\n",
    "\n",
    "print(sgdr.get_params())\n",
    "print('\\n\\nr2_error(train):', sgdr.score(X_train, y_train))\n",
    "print('r2_error(test):', sgdr.score(X_test, y_test))\n",
    "\n",
    "print('\\nroot_mean_squared_error(train):', metrics.mean_squared_error(y_train, sgdr.predict(X_train), squared=False))\n",
    "print('root_mean_squared_error(test):', metrics.mean_squared_error(y_test, sgdr.predict(X_test), squared=False))\n",
    "\n",
    "print('\\nmax_error(train):', metrics.max_error(y_train, sgdr.predict(X_train)))\n",
    "print('max_error(test):', metrics.max_error(y_test, sgdr.predict(X_test)))\n",
    "\n",
    "print('\\nActual number of iteration:', sgdr.n_iter_)"
   ]
  },
  {
   "cell_type": "markdown",
   "metadata": {},
   "source": [
    "## Cross Validation"
   ]
  },
  {
   "cell_type": "code",
   "execution_count": 5,
   "metadata": {},
   "outputs": [
    {
     "name": "stdout",
     "output_type": "stream",
     "text": [
      "Mean of r2(train): 0.8441815584879716\n",
      "Mean of r2(test): 0.9013776846383786\n",
      "Mean of RMSE(train): 25518.316436921665\n",
      "Mean of RMSE(test): 21436.881854746374\n",
      "Mean of max_error(train): -497906.6516500757\n",
      "Mean of max_error(test): -105066.59966579238\n"
     ]
    }
   ],
   "source": [
    "scoring= ['r2', 'neg_root_mean_squared_error', 'max_error']\n",
    "\n",
    "scores = model_selection.cross_validate(sgdr, X, y, scoring=scoring, \n",
    "                                        cv=10, return_train_score=True)\n",
    "\n",
    "print('Mean of r2(train):', np.mean(scores['train_r2']))\n",
    "print('Mean of r2(test):', np.mean(scores['test_r2']))\n",
    "\n",
    "print('Mean of RMSE(train):', -(np.mean(scores['train_neg_root_mean_squared_error'])))\n",
    "print('Mean of RMSE(test):', -(np.mean(scores['test_neg_root_mean_squared_error'])))\n",
    "\n",
    "print('Mean of max_error(train):', np.mean(scores['train_max_error']))\n",
    "print('Mean of max_error(test):', np.mean(scores['test_max_error']))"
   ]
  },
  {
   "cell_type": "markdown",
   "metadata": {},
   "source": [
    "## Residual Plots"
   ]
  },
  {
   "cell_type": "code",
   "execution_count": null,
   "metadata": {},
   "outputs": [],
   "source": [
    "import plotly.express as px\n",
    "\n",
    "y_train_pred = sgdr.predict(X_train)\n",
    "y_test_pred = sgdr.predict(X_test)\n",
    "\n",
    "\n",
    "res_train_df = y_train.to_frame()\n",
    "res_train_df['prediction'] = y_train_pred\n",
    "res_train_df['Set'] = 'train'\n",
    "\n",
    "res_test_df = y_test.to_frame()\n",
    "res_test_df['prediction'] = y_test_pred\n",
    "res_test_df['Set'] = 'test'\n",
    "\n",
    "\n",
    "result = pd.concat([res_train_df, res_test_df])\n",
    "result['residual'] = result['prediction'] - result['SalePrice']\n",
    "\n",
    "fig = px.scatter(\n",
    "    result, x='prediction', y='residual',\n",
    "    marginal_y='violin',\n",
    "    color='Set', trendline='ols',\n",
    "    title=\"Residual Plot\"\n",
    ")\n",
    "fig.show()"
   ]
  }
 ],
 "metadata": {
  "kernelspec": {
   "display_name": "Python 3",
   "language": "python",
   "name": "python3"
  },
  "language_info": {
   "codemirror_mode": {
    "name": "ipython",
    "version": 3
   },
   "file_extension": ".py",
   "mimetype": "text/x-python",
   "name": "python",
   "nbconvert_exporter": "python",
   "pygments_lexer": "ipython3",
   "version": "3.8.8"
  }
 },
 "nbformat": 4,
 "nbformat_minor": 4
}
