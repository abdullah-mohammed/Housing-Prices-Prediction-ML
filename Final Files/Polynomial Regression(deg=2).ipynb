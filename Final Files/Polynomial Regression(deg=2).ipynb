{
 "cells": [
  {
   "cell_type": "markdown",
   "metadata": {},
   "source": [
    "## Polynomial Regression"
   ]
  },
  {
   "cell_type": "code",
   "execution_count": 21,
   "metadata": {},
   "outputs": [],
   "source": [
    "import pandas as pd\n",
    "import numpy as np\n",
    "from sklearn import linear_model\n",
    "from sklearn.model_selection import train_test_split\n",
    "from sklearn.model_selection import cross_val_score\n",
    "from sklearn.metrics import mean_squared_error\n",
    "\n",
    "dataset = pd.read_csv(\"df_final.csv\")\n",
    "\n",
    "X = dataset.drop('SalePrice', axis = 1)\n",
    "y = dataset['SalePrice']\n",
    "\n",
    "data_train, data_test, price_train, price_test = train_test_split(X, y, test_size=0.2)\n"
   ]
  },
  {
   "cell_type": "code",
   "execution_count": 22,
   "metadata": {},
   "outputs": [
    {
     "name": "stdout",
     "output_type": "stream",
     "text": [
      "RMSE:  21549.66399625704\n",
      "r2 score: 0.896\n"
     ]
    }
   ],
   "source": [
    "# Fitting Polynomial Regression to the dataset\n",
    "from sklearn.preprocessing import PolynomialFeatures\n",
    "from sklearn.model_selection import RepeatedStratifiedKFold\n",
    "\n",
    "deg = 2\n",
    "poly_reg = PolynomialFeatures(degree=deg)\n",
    "data_poly = poly_reg.fit_transform(data_train)\n",
    "data_poly_test = poly_reg.fit_transform(data_test)\n",
    "\n",
    "\n",
    "polyreg = linear_model.LinearRegression()\n",
    "model_poly = polyreg.fit(data_poly, price_train)\n",
    "predreg = polyreg.predict(data_poly_test)\n",
    "print('RMSE: ', mean_squared_error(price_test, predreg, squared=False))\n",
    "\n",
    "# Cross Validation\n",
    "n_scores = cross_val_score(polyreg, data_poly_test, price_test, cv=10)\n",
    "print('r2 score: %.3f' % (np.mean(n_scores)))"
   ]
  }
 ],
 "metadata": {
  "interpreter": {
   "hash": "95ec9ec1504d83f612128e0fb229072f90bbb4cb09d9d5d93b5dd26e0ca2cfd1"
  },
  "kernelspec": {
   "display_name": "Python 3",
   "language": "python",
   "name": "python3"
  },
  "language_info": {
   "codemirror_mode": {
    "name": "ipython",
    "version": 3
   },
   "file_extension": ".py",
   "mimetype": "text/x-python",
   "name": "python",
   "nbconvert_exporter": "python",
   "pygments_lexer": "ipython3",
   "version": "3.8.5"
  }
 },
 "nbformat": 4,
 "nbformat_minor": 2
}
